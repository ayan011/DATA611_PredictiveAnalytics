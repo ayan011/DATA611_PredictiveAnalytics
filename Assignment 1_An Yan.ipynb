{
 "cells": [
  {
   "cell_type": "code",
   "execution_count": 64,
   "id": "88da1e74",
   "metadata": {},
   "outputs": [],
   "source": [
    "import numpy as np\n",
    "import matplotlib.pyplot as plt\n",
    "import pandas as pd\n",
    "import sklearn\n",
    "import seaborn as sns"
   ]
  },
  {
   "cell_type": "markdown",
   "id": "a2e5956b",
   "metadata": {},
   "source": [
    "#### Quesiton 1"
   ]
  },
  {
   "cell_type": "code",
   "execution_count": 35,
   "id": "e7741594",
   "metadata": {
    "scrolled": true
   },
   "outputs": [
    {
     "data": {
      "text/html": [
       "<div>\n",
       "<style scoped>\n",
       "    .dataframe tbody tr th:only-of-type {\n",
       "        vertical-align: middle;\n",
       "    }\n",
       "\n",
       "    .dataframe tbody tr th {\n",
       "        vertical-align: top;\n",
       "    }\n",
       "\n",
       "    .dataframe thead th {\n",
       "        text-align: right;\n",
       "    }\n",
       "</style>\n",
       "<table border=\"1\" class=\"dataframe\">\n",
       "  <thead>\n",
       "    <tr style=\"text-align: right;\">\n",
       "      <th></th>\n",
       "      <th>Propensity</th>\n",
       "      <th>Actual Class</th>\n",
       "      <th>Predicted Class at Cut-off 0.25</th>\n",
       "      <th>Predicted Class at Cut-off 0.75</th>\n",
       "    </tr>\n",
       "  </thead>\n",
       "  <tbody>\n",
       "    <tr>\n",
       "      <th>0</th>\n",
       "      <td>0.03</td>\n",
       "      <td>0</td>\n",
       "      <td>0</td>\n",
       "      <td>0</td>\n",
       "    </tr>\n",
       "    <tr>\n",
       "      <th>1</th>\n",
       "      <td>0.52</td>\n",
       "      <td>0</td>\n",
       "      <td>1</td>\n",
       "      <td>0</td>\n",
       "    </tr>\n",
       "    <tr>\n",
       "      <th>2</th>\n",
       "      <td>0.38</td>\n",
       "      <td>0</td>\n",
       "      <td>1</td>\n",
       "      <td>0</td>\n",
       "    </tr>\n",
       "    <tr>\n",
       "      <th>3</th>\n",
       "      <td>0.82</td>\n",
       "      <td>1</td>\n",
       "      <td>1</td>\n",
       "      <td>1</td>\n",
       "    </tr>\n",
       "    <tr>\n",
       "      <th>4</th>\n",
       "      <td>0.33</td>\n",
       "      <td>0</td>\n",
       "      <td>1</td>\n",
       "      <td>0</td>\n",
       "    </tr>\n",
       "  </tbody>\n",
       "</table>\n",
       "</div>"
      ],
      "text/plain": [
       "   Propensity  Actual Class  Predicted Class at Cut-off 0.25  \\\n",
       "0        0.03             0                                0   \n",
       "1        0.52             0                                1   \n",
       "2        0.38             0                                1   \n",
       "3        0.82             1                                1   \n",
       "4        0.33             0                                1   \n",
       "\n",
       "   Predicted Class at Cut-off 0.75  \n",
       "0                                0  \n",
       "1                                0  \n",
       "2                                0  \n",
       "3                                1  \n",
       "4                                0  "
      ]
     },
     "execution_count": 35,
     "metadata": {},
     "output_type": "execute_result"
    }
   ],
   "source": [
    "quality=pd.read_csv(\"HW1Q1.csv\")\n",
    "quality.head()"
   ]
  },
  {
   "cell_type": "markdown",
   "id": "a3dc03fc",
   "metadata": {},
   "source": [
    "#### 1.a"
   ]
  },
  {
   "cell_type": "code",
   "execution_count": 36,
   "id": "dc147b42",
   "metadata": {},
   "outputs": [
    {
     "name": "stdout",
     "output_type": "stream",
     "text": [
      "[[9 8]\n",
      " [0 3]]\n"
     ]
    }
   ],
   "source": [
    "#confusion matrix for cut-off value 0.25\n",
    "from sklearn.metrics import confusion_matrix,accuracy_score\n",
    "\n",
    "actual1=quality[\"Actual Class\"]\n",
    "predicted1=quality[\"Predicted Class at Cut-off 0.25\"]\n",
    "cm1=confusion_matrix(actual1, predicted1)\n",
    "print(cm1)"
   ]
  },
  {
   "cell_type": "code",
   "execution_count": 37,
   "id": "3a5ba46e",
   "metadata": {},
   "outputs": [
    {
     "name": "stdout",
     "output_type": "stream",
     "text": [
      "[[17  0]\n",
      " [ 1  2]]\n"
     ]
    }
   ],
   "source": [
    "#confusion matrix for cut-off value 0.75\n",
    "actual2=quality[\"Actual Class\"]\n",
    "predicted2=quality[\"Predicted Class at Cut-off 0.75\"]\n",
    "cm2=confusion_matrix(actual2, predicted2)\n",
    "print(cm2)"
   ]
  },
  {
   "cell_type": "markdown",
   "id": "6bb41e89",
   "metadata": {},
   "source": [
    "#### 1.b"
   ]
  },
  {
   "cell_type": "code",
   "execution_count": 38,
   "id": "ef46224c",
   "metadata": {},
   "outputs": [
    {
     "name": "stdout",
     "output_type": "stream",
     "text": [
      "Confusion matrix measure for cut-off value 0.25:\n",
      "PCC: 0.6\n",
      "Error rate:  0.4\n",
      "Mean Absolute Error: 0.4\n",
      "Mean Square Error: 0.4\n",
      "Root Mean Square Error: 0.6324555320336759\n",
      "Sensitivity: 0.5294117647058824\n",
      "Specificity: 1.0\n"
     ]
    }
   ],
   "source": [
    "# performance evaluation for cut-off value 0.25\n",
    "from sklearn import metrics\n",
    "\n",
    "nrows=quality.shape[0]\n",
    "PCC1=(cm1[1][1]+cm1[0][0])/nrows\n",
    "errorRate1=1-PCC1\n",
    "meanAbErr1 = metrics.mean_absolute_error(actual1, predicted1)\n",
    "meanSqErr1 = metrics.mean_squared_error(actual1, predicted1)\n",
    "rootMeanSqErr1 = metrics.mean_squared_error(actual1, predicted1, squared=False)\n",
    "sensitivity1=cm1[0][0]/(cm1[0][0]+cm1[0][1])\n",
    "specificity1=cm1[1][1]/(cm1[1][1]+cm1[1][0])\n",
    "\n",
    "print(\"Confusion matrix measure for cut-off value 0.25:\")\n",
    "print('PCC:', PCC1)\n",
    "print(\"Error rate: \", errorRate1)\n",
    "print('Mean Absolute Error:', meanAbErr1)\n",
    "print('Mean Square Error:', meanSqErr1)\n",
    "print('Root Mean Square Error:', rootMeanSqErr1)\n",
    "print('Sensitivity:', sensitivity1)\n",
    "print('Specificity:', specificity1)"
   ]
  },
  {
   "cell_type": "code",
   "execution_count": 39,
   "id": "55d2d803",
   "metadata": {},
   "outputs": [
    {
     "name": "stdout",
     "output_type": "stream",
     "text": [
      "Confusion matrix measure for cut-off value 0.75:\n",
      "PCC: 0.95\n",
      "Error rate:  0.050000000000000044\n",
      "Mean Absolute Error: 0.05\n",
      "Mean Square Error: 0.05\n",
      "Root Mean Square Error: 0.22360679774997896\n",
      "Sensitivity: 1.0\n",
      "Specificity: 1.0\n"
     ]
    }
   ],
   "source": [
    "# performance evaluation for cut-off value 0.25\n",
    "PCC2=(cm2[1][1]+cm2[0][0])/nrows\n",
    "errorRate2=1-PCC2\n",
    "meanAbErr2=metrics.mean_absolute_error(actual2, predicted2)\n",
    "meanSqErr2=metrics.mean_squared_error(actual2, predicted2)\n",
    "rootMeanSqErr2=metrics.mean_squared_error(actual2, predicted2, squared=False)\n",
    "sensitivity2=cm2[0][0]/(cm2[0][0]+cm2[0][1])\n",
    "specificity2=cm1[1][1]/(cm2[1][1]+cm2[1][0])\n",
    "\n",
    "print(\"Confusion matrix measure for cut-off value 0.75:\")\n",
    "print('PCC:', PCC2)\n",
    "print(\"Error rate: \", errorRate2)\n",
    "print('Mean Absolute Error:', meanAbErr2)\n",
    "print('Mean Square Error:', meanSqErr2)\n",
    "print('Root Mean Square Error:', rootMeanSqErr2)\n",
    "print('Sensitivity:', sensitivity2)\n",
    "print('Specificity:', specificity2)"
   ]
  },
  {
   "cell_type": "markdown",
   "id": "153eacb2",
   "metadata": {},
   "source": [
    "#### 1.c"
   ]
  },
  {
   "cell_type": "markdown",
   "id": "3ffac336",
   "metadata": {},
   "source": [
    "Please see the pdf document."
   ]
  },
  {
   "cell_type": "markdown",
   "id": "69029e95",
   "metadata": {},
   "source": [
    "#### Question 2"
   ]
  },
  {
   "cell_type": "code",
   "execution_count": 40,
   "id": "4dfda4e9",
   "metadata": {
    "scrolled": false
   },
   "outputs": [
    {
     "data": {
      "text/html": [
       "<div>\n",
       "<style scoped>\n",
       "    .dataframe tbody tr th:only-of-type {\n",
       "        vertical-align: middle;\n",
       "    }\n",
       "\n",
       "    .dataframe tbody tr th {\n",
       "        vertical-align: top;\n",
       "    }\n",
       "\n",
       "    .dataframe thead th {\n",
       "        text-align: right;\n",
       "    }\n",
       "</style>\n",
       "<table border=\"1\" class=\"dataframe\">\n",
       "  <thead>\n",
       "    <tr style=\"text-align: right;\">\n",
       "      <th></th>\n",
       "      <th>Specimen ID</th>\n",
       "      <th>Age (Myr)</th>\n",
       "      <th>X coordinate</th>\n",
       "      <th>Y-coordinate</th>\n",
       "      <th>Taxonomy</th>\n",
       "      <th>Brain size</th>\n",
       "      <th>Body size</th>\n",
       "      <th>Age group</th>\n",
       "      <th>Data source</th>\n",
       "      <th>Dating method</th>\n",
       "    </tr>\n",
       "  </thead>\n",
       "  <tbody>\n",
       "    <tr>\n",
       "      <th>0</th>\n",
       "      <td>Arene Candide 4</td>\n",
       "      <td>0.011</td>\n",
       "      <td>8.3316</td>\n",
       "      <td>44.1643</td>\n",
       "      <td>Pleistocene Homo sapiens</td>\n",
       "      <td>1520.0</td>\n",
       "      <td>67.6</td>\n",
       "      <td>1</td>\n",
       "      <td>De Miguel &amp; Henneberg 2001</td>\n",
       "      <td>C14</td>\n",
       "    </tr>\n",
       "    <tr>\n",
       "      <th>1</th>\n",
       "      <td>Arene Candide 5</td>\n",
       "      <td>0.011</td>\n",
       "      <td>8.3316</td>\n",
       "      <td>44.1643</td>\n",
       "      <td>Pleistocene Homo sapiens</td>\n",
       "      <td>1661.0</td>\n",
       "      <td>66.5</td>\n",
       "      <td>1</td>\n",
       "      <td>De Miguel &amp; Henneberg 2001</td>\n",
       "      <td>C14</td>\n",
       "    </tr>\n",
       "    <tr>\n",
       "      <th>2</th>\n",
       "      <td>Arene Candide 2</td>\n",
       "      <td>0.012</td>\n",
       "      <td>8.3316</td>\n",
       "      <td>44.1643</td>\n",
       "      <td>Pleistocene Homo sapiens</td>\n",
       "      <td>1424.0</td>\n",
       "      <td>73.3</td>\n",
       "      <td>1</td>\n",
       "      <td>De Miguel &amp; Henneberg 2001</td>\n",
       "      <td>C14</td>\n",
       "    </tr>\n",
       "    <tr>\n",
       "      <th>3</th>\n",
       "      <td>Oberkassel 1</td>\n",
       "      <td>0.014</td>\n",
       "      <td>7.1600</td>\n",
       "      <td>50.7150</td>\n",
       "      <td>Pleistocene Homo sapiens</td>\n",
       "      <td>1492.0</td>\n",
       "      <td>83.8</td>\n",
       "      <td>1</td>\n",
       "      <td>Neubauer et al. 2018</td>\n",
       "      <td>C14</td>\n",
       "    </tr>\n",
       "    <tr>\n",
       "      <th>4</th>\n",
       "      <td>Oberkassel 2</td>\n",
       "      <td>0.014</td>\n",
       "      <td>7.1600</td>\n",
       "      <td>50.7150</td>\n",
       "      <td>Pleistocene Homo sapiens</td>\n",
       "      <td>1330.0</td>\n",
       "      <td>75.1</td>\n",
       "      <td>1</td>\n",
       "      <td>Neubauer et al. 2018</td>\n",
       "      <td>C14</td>\n",
       "    </tr>\n",
       "  </tbody>\n",
       "</table>\n",
       "</div>"
      ],
      "text/plain": [
       "       Specimen ID  Age (Myr)  X coordinate  Y-coordinate  \\\n",
       "0  Arene Candide 4      0.011        8.3316       44.1643   \n",
       "1  Arene Candide 5      0.011        8.3316       44.1643   \n",
       "2  Arene Candide 2      0.012        8.3316       44.1643   \n",
       "3     Oberkassel 1      0.014        7.1600       50.7150   \n",
       "4     Oberkassel 2      0.014        7.1600       50.7150   \n",
       "\n",
       "                   Taxonomy  Brain size  Body size  Age group  \\\n",
       "0  Pleistocene Homo sapiens      1520.0       67.6          1   \n",
       "1  Pleistocene Homo sapiens      1661.0       66.5          1   \n",
       "2  Pleistocene Homo sapiens      1424.0       73.3          1   \n",
       "3  Pleistocene Homo sapiens      1492.0       83.8          1   \n",
       "4  Pleistocene Homo sapiens      1330.0       75.1          1   \n",
       "\n",
       "                  Data source Dating method  \n",
       "0  De Miguel & Henneberg 2001           C14  \n",
       "1  De Miguel & Henneberg 2001           C14  \n",
       "2  De Miguel & Henneberg 2001           C14  \n",
       "3        Neubauer et al. 2018           C14  \n",
       "4        Neubauer et al. 2018           C14  "
      ]
     },
     "execution_count": 40,
     "metadata": {},
     "output_type": "execute_result"
    }
   ],
   "source": [
    "pt=pd.read_csv(\"Paleontology.csv\")\n",
    "pt.head()"
   ]
  },
  {
   "cell_type": "markdown",
   "id": "4013bc1f",
   "metadata": {},
   "source": [
    "#### 2.a"
   ]
  },
  {
   "cell_type": "markdown",
   "id": "8d78a1f0",
   "metadata": {},
   "source": [
    "My target variable would be Age, and my predicting variable woyld be Brian size, Body size and Age group."
   ]
  },
  {
   "cell_type": "markdown",
   "id": "58690a92",
   "metadata": {},
   "source": [
    "#### 2.b"
   ]
  },
  {
   "cell_type": "code",
   "execution_count": 41,
   "id": "b140a69c",
   "metadata": {},
   "outputs": [
    {
     "data": {
      "text/plain": [
       "array([[<AxesSubplot:title={'center':'Brain size'}>]], dtype=object)"
      ]
     },
     "execution_count": 41,
     "metadata": {},
     "output_type": "execute_result"
    },
    {
     "data": {
      "image/png": "[encoded data removed]",
      "text/plain": [
       "<Figure size 432x288 with 1 Axes>"
      ]
     },
     "metadata": {
      "needs_background": "light"
     },
     "output_type": "display_data"
    }
   ],
   "source": [
    "pt.hist(column=\"Brain size\")"
   ]
  },
  {
   "cell_type": "code",
   "execution_count": 42,
   "id": "92db098d",
   "metadata": {},
   "outputs": [
    {
     "data": {
      "text/plain": [
       "array([[<AxesSubplot:title={'center':'Body size'}>]], dtype=object)"
      ]
     },
     "execution_count": 42,
     "metadata": {},
     "output_type": "execute_result"
    },
    {
     "data": {
      "image/png": "[encoded data removed]",
      "text/plain": [
       "<Figure size 432x288 with 1 Axes>"
      ]
     },
     "metadata": {
      "needs_background": "light"
     },
     "output_type": "display_data"
    }
   ],
   "source": [
    "pt.hist(column=\"Body size\")"
   ]
  },
  {
   "cell_type": "code",
   "execution_count": 43,
   "id": "e51f1a42",
   "metadata": {},
   "outputs": [
    {
     "data": {
      "text/plain": [
       "array([[<AxesSubplot:title={'center':'Age group'}>]], dtype=object)"
      ]
     },
     "execution_count": 43,
     "metadata": {},
     "output_type": "execute_result"
    },
    {
     "data": {
      "image/png": "[encoded data removed]",
      "text/plain": [
       "<Figure size 432x288 with 1 Axes>"
      ]
     },
     "metadata": {
      "needs_background": "light"
     },
     "output_type": "display_data"
    }
   ],
   "source": [
    "pt.hist(column=\"Age group\")"
   ]
  },
  {
   "cell_type": "code",
   "execution_count": 44,
   "id": "7ce1b3f7",
   "metadata": {},
   "outputs": [
    {
     "data": {
      "text/plain": [
       "array([[<AxesSubplot:title={'center':'Age (Myr)'}>]], dtype=object)"
      ]
     },
     "execution_count": 44,
     "metadata": {},
     "output_type": "execute_result"
    },
    {
     "data": {
      "image/png": "[encoded data removed]",
      "text/plain": [
       "<Figure size 432x288 with 1 Axes>"
      ]
     },
     "metadata": {
      "needs_background": "light"
     },
     "output_type": "display_data"
    }
   ],
   "source": [
    "pt.hist(column=\"Age (Myr)\")"
   ]
  },
  {
   "cell_type": "code",
   "execution_count": 65,
   "id": "7567f4f6",
   "metadata": {},
   "outputs": [
    {
     "data": {
      "image/png": "[encoded data removed]",
      "text/plain": [
       "<Figure size 864x288 with 3 Axes>"
      ]
     },
     "metadata": {
      "needs_background": "light"
     },
     "output_type": "display_data"
    }
   ],
   "source": [
    "sns.pairplot(pt, x_vars=[\"Brain size\", \"Body size\", \"Age group\"], y_vars='Age (Myr)', height=4, aspect=1, kind='scatter')\n",
    "plt.show()"
   ]
  },
  {
   "cell_type": "code",
   "execution_count": 66,
   "id": "f15c19fb",
   "metadata": {},
   "outputs": [
    {
     "data": {
      "text/html": [
       "<div>\n",
       "<style scoped>\n",
       "    .dataframe tbody tr th:only-of-type {\n",
       "        vertical-align: middle;\n",
       "    }\n",
       "\n",
       "    .dataframe tbody tr th {\n",
       "        vertical-align: top;\n",
       "    }\n",
       "\n",
       "    .dataframe thead th {\n",
       "        text-align: right;\n",
       "    }\n",
       "</style>\n",
       "<table border=\"1\" class=\"dataframe\">\n",
       "  <thead>\n",
       "    <tr style=\"text-align: right;\">\n",
       "      <th></th>\n",
       "      <th>Age (Myr)</th>\n",
       "      <th>X coordinate</th>\n",
       "      <th>Y-coordinate</th>\n",
       "      <th>Brain size</th>\n",
       "      <th>Body size</th>\n",
       "      <th>Age group</th>\n",
       "    </tr>\n",
       "  </thead>\n",
       "  <tbody>\n",
       "    <tr>\n",
       "      <th>Age (Myr)</th>\n",
       "      <td>1.000000</td>\n",
       "      <td>0.356414</td>\n",
       "      <td>-0.193218</td>\n",
       "      <td>-0.748410</td>\n",
       "      <td>-0.256243</td>\n",
       "      <td>0.992766</td>\n",
       "    </tr>\n",
       "    <tr>\n",
       "      <th>X coordinate</th>\n",
       "      <td>0.356414</td>\n",
       "      <td>1.000000</td>\n",
       "      <td>-0.574028</td>\n",
       "      <td>-0.419959</td>\n",
       "      <td>-0.555145</td>\n",
       "      <td>0.347407</td>\n",
       "    </tr>\n",
       "    <tr>\n",
       "      <th>Y-coordinate</th>\n",
       "      <td>-0.193218</td>\n",
       "      <td>-0.574028</td>\n",
       "      <td>1.000000</td>\n",
       "      <td>0.195552</td>\n",
       "      <td>0.378819</td>\n",
       "      <td>-0.175190</td>\n",
       "    </tr>\n",
       "    <tr>\n",
       "      <th>Brain size</th>\n",
       "      <td>-0.748410</td>\n",
       "      <td>-0.419959</td>\n",
       "      <td>0.195552</td>\n",
       "      <td>1.000000</td>\n",
       "      <td>0.416072</td>\n",
       "      <td>-0.756669</td>\n",
       "    </tr>\n",
       "    <tr>\n",
       "      <th>Body size</th>\n",
       "      <td>-0.256243</td>\n",
       "      <td>-0.555145</td>\n",
       "      <td>0.378819</td>\n",
       "      <td>0.416072</td>\n",
       "      <td>1.000000</td>\n",
       "      <td>-0.224130</td>\n",
       "    </tr>\n",
       "    <tr>\n",
       "      <th>Age group</th>\n",
       "      <td>0.992766</td>\n",
       "      <td>0.347407</td>\n",
       "      <td>-0.175190</td>\n",
       "      <td>-0.756669</td>\n",
       "      <td>-0.224130</td>\n",
       "      <td>1.000000</td>\n",
       "    </tr>\n",
       "  </tbody>\n",
       "</table>\n",
       "</div>"
      ],
      "text/plain": [
       "              Age (Myr)  X coordinate  Y-coordinate  Brain size  Body size  \\\n",
       "Age (Myr)      1.000000      0.356414     -0.193218   -0.748410  -0.256243   \n",
       "X coordinate   0.356414      1.000000     -0.574028   -0.419959  -0.555145   \n",
       "Y-coordinate  -0.193218     -0.574028      1.000000    0.195552   0.378819   \n",
       "Brain size    -0.748410     -0.419959      0.195552    1.000000   0.416072   \n",
       "Body size     -0.256243     -0.555145      0.378819    0.416072   1.000000   \n",
       "Age group      0.992766      0.347407     -0.175190   -0.756669  -0.224130   \n",
       "\n",
       "              Age group  \n",
       "Age (Myr)      0.992766  \n",
       "X coordinate   0.347407  \n",
       "Y-coordinate  -0.175190  \n",
       "Brain size    -0.756669  \n",
       "Body size     -0.224130  \n",
       "Age group      1.000000  "
      ]
     },
     "execution_count": 66,
     "metadata": {},
     "output_type": "execute_result"
    }
   ],
   "source": [
    "#find coorealtions between each variable\n",
    "pt.corr()"
   ]
  },
  {
   "cell_type": "code",
   "execution_count": 67,
   "id": "aaa1036d",
   "metadata": {},
   "outputs": [
    {
     "data": {
      "image/png": "[encoded data removed]",
      "text/plain": [
       "<Figure size 432x288 with 2 Axes>"
      ]
     },
     "metadata": {
      "needs_background": "light"
     },
     "output_type": "display_data"
    }
   ],
   "source": [
    "sns.heatmap(pt.corr(), annot = True, cmap = \"ocean\")\n",
    "plt.show()"
   ]
  },
  {
   "cell_type": "markdown",
   "id": "996ccf19",
   "metadata": {},
   "source": [
    "#### 2.c"
   ]
  },
  {
   "cell_type": "markdown",
   "id": "982ef8f5",
   "metadata": {},
   "source": [
    "#### 2.d.a"
   ]
  },
  {
   "cell_type": "code",
   "execution_count": 45,
   "id": "73af69d5",
   "metadata": {},
   "outputs": [],
   "source": [
    "from sklearn.model_selection import train_test_split\n",
    "\n",
    "x=pt[[\"Brain size\", \"Body size\", \"Age group\"]]\n",
    "y=pt[\"Age (Myr)\"]\n",
    "\n",
    "x_train, x_test, y_train, y_test= train_test_split(x, y, test_size= 0.3, random_state=100)"
   ]
  },
  {
   "cell_type": "code",
   "execution_count": 46,
   "id": "2e10ee1e",
   "metadata": {},
   "outputs": [
    {
     "data": {
      "text/html": [
       "<div>\n",
       "<style scoped>\n",
       "    .dataframe tbody tr th:only-of-type {\n",
       "        vertical-align: middle;\n",
       "    }\n",
       "\n",
       "    .dataframe tbody tr th {\n",
       "        vertical-align: top;\n",
       "    }\n",
       "\n",
       "    .dataframe thead th {\n",
       "        text-align: right;\n",
       "    }\n",
       "</style>\n",
       "<table border=\"1\" class=\"dataframe\">\n",
       "  <thead>\n",
       "    <tr style=\"text-align: right;\">\n",
       "      <th></th>\n",
       "      <th>Brain size</th>\n",
       "      <th>Body size</th>\n",
       "      <th>Age group</th>\n",
       "    </tr>\n",
       "  </thead>\n",
       "  <tbody>\n",
       "    <tr>\n",
       "      <th>38</th>\n",
       "      <td>1497.0</td>\n",
       "      <td>64.4</td>\n",
       "      <td>1</td>\n",
       "    </tr>\n",
       "    <tr>\n",
       "      <th>51</th>\n",
       "      <td>1139.0</td>\n",
       "      <td>79.6</td>\n",
       "      <td>5</td>\n",
       "    </tr>\n",
       "    <tr>\n",
       "      <th>43</th>\n",
       "      <td>1270.5</td>\n",
       "      <td>54.2</td>\n",
       "      <td>2</td>\n",
       "    </tr>\n",
       "    <tr>\n",
       "      <th>47</th>\n",
       "      <td>1092.0</td>\n",
       "      <td>69.0</td>\n",
       "      <td>5</td>\n",
       "    </tr>\n",
       "    <tr>\n",
       "      <th>40</th>\n",
       "      <td>1554.5</td>\n",
       "      <td>72.4</td>\n",
       "      <td>2</td>\n",
       "    </tr>\n",
       "  </tbody>\n",
       "</table>\n",
       "</div>"
      ],
      "text/plain": [
       "    Brain size  Body size  Age group\n",
       "38      1497.0       64.4          1\n",
       "51      1139.0       79.6          5\n",
       "43      1270.5       54.2          2\n",
       "47      1092.0       69.0          5\n",
       "40      1554.5       72.4          2"
      ]
     },
     "execution_count": 46,
     "metadata": {},
     "output_type": "execute_result"
    }
   ],
   "source": [
    "x_train.head()"
   ]
  },
  {
   "cell_type": "code",
   "execution_count": 47,
   "id": "980e20e5",
   "metadata": {},
   "outputs": [
    {
     "data": {
      "text/html": [
       "<div>\n",
       "<style scoped>\n",
       "    .dataframe tbody tr th:only-of-type {\n",
       "        vertical-align: middle;\n",
       "    }\n",
       "\n",
       "    .dataframe tbody tr th {\n",
       "        vertical-align: top;\n",
       "    }\n",
       "\n",
       "    .dataframe thead th {\n",
       "        text-align: right;\n",
       "    }\n",
       "</style>\n",
       "<table border=\"1\" class=\"dataframe\">\n",
       "  <thead>\n",
       "    <tr style=\"text-align: right;\">\n",
       "      <th></th>\n",
       "      <th>Age (Myr)</th>\n",
       "      <th>Brain size</th>\n",
       "      <th>Body size</th>\n",
       "    </tr>\n",
       "  </thead>\n",
       "  <tbody>\n",
       "    <tr>\n",
       "      <th>33</th>\n",
       "      <td>0.048</td>\n",
       "      <td>1550.0</td>\n",
       "      <td>71.2</td>\n",
       "    </tr>\n",
       "    <tr>\n",
       "      <th>6</th>\n",
       "      <td>0.015</td>\n",
       "      <td>1484.0</td>\n",
       "      <td>66.9</td>\n",
       "    </tr>\n",
       "    <tr>\n",
       "      <th>52</th>\n",
       "      <td>0.540</td>\n",
       "      <td>940.0</td>\n",
       "      <td>50.0</td>\n",
       "    </tr>\n",
       "    <tr>\n",
       "      <th>49</th>\n",
       "      <td>0.430</td>\n",
       "      <td>1143.5</td>\n",
       "      <td>58.3</td>\n",
       "    </tr>\n",
       "    <tr>\n",
       "      <th>12</th>\n",
       "      <td>0.021</td>\n",
       "      <td>1090.0</td>\n",
       "      <td>47.4</td>\n",
       "    </tr>\n",
       "  </tbody>\n",
       "</table>\n",
       "</div>"
      ],
      "text/plain": [
       "    Age (Myr)  Brain size  Body size\n",
       "33      0.048      1550.0       71.2\n",
       "6       0.015      1484.0       66.9\n",
       "52      0.540       940.0       50.0\n",
       "49      0.430      1143.5       58.3\n",
       "12      0.021      1090.0       47.4"
      ]
     },
     "execution_count": 47,
     "metadata": {},
     "output_type": "execute_result"
    }
   ],
   "source": [
    "X_test.head()"
   ]
  },
  {
   "cell_type": "markdown",
   "id": "05073fa0",
   "metadata": {},
   "source": [
    "#### 2.d.b"
   ]
  },
  {
   "cell_type": "code",
   "execution_count": 48,
   "id": "04e31da6",
   "metadata": {},
   "outputs": [
    {
     "name": "stdout",
     "output_type": "stream",
     "text": [
      "[ 4.06916496e-05 -1.10079593e-03  1.04237804e-01]\n",
      "-0.053280064061223376\n"
     ]
    },
    {
     "data": {
      "text/plain": [
       "[('Brain size', 4.0691649639745516e-05),\n",
       " ('Body size', -0.0011007959344957246),\n",
       " ('Age group', 0.10423780399210938)]"
      ]
     },
     "execution_count": 48,
     "metadata": {},
     "output_type": "execute_result"
    }
   ],
   "source": [
    "from sklearn.linear_model import LinearRegression\n",
    "\n",
    "mlr=LinearRegression()\n",
    "mlr.fit(x_train, y_train)\n",
    "\n",
    "#print the coefficients and intercepts for the model\n",
    "print(mlr.coef_)\n",
    "print(mlr.intercept_)\n",
    "\n",
    "list(zip(x, mlr.coef_))"
   ]
  },
  {
   "cell_type": "markdown",
   "id": "8ce67b18",
   "metadata": {},
   "source": [
    "#### 2.d.c"
   ]
  },
  {
   "cell_type": "code",
   "execution_count": 49,
   "id": "1812b217",
   "metadata": {},
   "outputs": [
    {
     "data": {
      "text/html": [
       "<div>\n",
       "<style scoped>\n",
       "    .dataframe tbody tr th:only-of-type {\n",
       "        vertical-align: middle;\n",
       "    }\n",
       "\n",
       "    .dataframe tbody tr th {\n",
       "        vertical-align: top;\n",
       "    }\n",
       "\n",
       "    .dataframe thead th {\n",
       "        text-align: right;\n",
       "    }\n",
       "</style>\n",
       "<table border=\"1\" class=\"dataframe\">\n",
       "  <thead>\n",
       "    <tr style=\"text-align: right;\">\n",
       "      <th></th>\n",
       "      <th>Actual value</th>\n",
       "      <th>Predicted value</th>\n",
       "    </tr>\n",
       "  </thead>\n",
       "  <tbody>\n",
       "    <tr>\n",
       "      <th>33</th>\n",
       "      <td>0.048</td>\n",
       "      <td>0.035653</td>\n",
       "    </tr>\n",
       "    <tr>\n",
       "      <th>6</th>\n",
       "      <td>0.015</td>\n",
       "      <td>0.037701</td>\n",
       "    </tr>\n",
       "    <tr>\n",
       "      <th>52</th>\n",
       "      <td>0.540</td>\n",
       "      <td>0.555357</td>\n",
       "    </tr>\n",
       "    <tr>\n",
       "      <th>49</th>\n",
       "      <td>0.430</td>\n",
       "      <td>0.450263</td>\n",
       "    </tr>\n",
       "    <tr>\n",
       "      <th>12</th>\n",
       "      <td>0.021</td>\n",
       "      <td>0.043134</td>\n",
       "    </tr>\n",
       "  </tbody>\n",
       "</table>\n",
       "</div>"
      ],
      "text/plain": [
       "    Actual value  Predicted value\n",
       "33         0.048         0.035653\n",
       "6          0.015         0.037701\n",
       "52         0.540         0.555357\n",
       "49         0.430         0.450263\n",
       "12         0.021         0.043134"
      ]
     },
     "execution_count": 49,
     "metadata": {},
     "output_type": "execute_result"
    }
   ],
   "source": [
    "y_pred_mlr= mlr.predict(x_test)  \n",
    "v_pred_mlr= mlr.predict(x_train)\n",
    "\n",
    "mlr_diff = pd.DataFrame({'Actual value': y_test, 'Predicted value': y_pred_mlr})\n",
    "mlr_diff.head()"
   ]
  },
  {
   "cell_type": "code",
   "execution_count": 50,
   "id": "afebb465",
   "metadata": {},
   "outputs": [
    {
     "name": "stdout",
     "output_type": "stream",
     "text": [
      "R squared: 0.9869217315249359\n",
      "Mean Absolute Error: 0.02242492400591021\n",
      "Mean Square Error: 0.0008117730782788592\n",
      "Root Mean Square Error: 0.028491631723698438\n"
     ]
    }
   ],
   "source": [
    "rSquared=mlr.score(x,y)\n",
    "meanAbErr = metrics.mean_absolute_error(y_test, y_pred_mlr)\n",
    "meanSqErr = metrics.mean_squared_error(y_test, y_pred_mlr)\n",
    "rootMeanSqErr = metrics.mean_squared_error(y_test, y_pred_mlr, squared=False)\n",
    "\n",
    "print(\"R squared:\", rSquared)\n",
    "print('Mean Absolute Error:', meanAbErr)\n",
    "print('Mean Square Error:', meanSqErr)\n",
    "print('Root Mean Square Error:', rootMeanSqErr)"
   ]
  },
  {
   "cell_type": "markdown",
   "id": "b690a0e1",
   "metadata": {},
   "source": [
    "#### 2.d.d"
   ]
  },
  {
   "cell_type": "markdown",
   "id": "5e512fb8",
   "metadata": {},
   "source": [
    "The R squared is 0.9865 which means 98.65% of the data is explained by this model, while both the values of MAE, MASE and RMSE are small, we can conclude that this is a good model."
   ]
  },
  {
   "cell_type": "markdown",
   "id": "6345c4a3",
   "metadata": {},
   "source": [
    "#### 2.d.e"
   ]
  },
  {
   "cell_type": "code",
   "execution_count": 51,
   "id": "e635ba4e",
   "metadata": {},
   "outputs": [
    {
     "name": "stdout",
     "output_type": "stream",
     "text": [
      "Mean Absolute Error: 0.01631025675398531\n",
      "Mean Square Error: 0.0004272831476725043\n",
      "Root Mean Square Error: 0.020670828422501706\n"
     ]
    }
   ],
   "source": [
    "meanAbErr3 = metrics.mean_absolute_error(y_train, v_pred_mlr)\n",
    "meanSqErr3 = metrics.mean_squared_error(y_train, v_pred_mlr)\n",
    "rootMeanSqErr3 = metrics.mean_squared_error(y_train, v_pred_mlr, squared=False)\n",
    "\n",
    "print('Mean Absolute Error:', meanAbErr3)\n",
    "print('Mean Square Error:', meanSqErr3)\n",
    "print('Root Mean Square Error:', rootMeanSqErr3)"
   ]
  },
  {
   "cell_type": "markdown",
   "id": "9441fe6f",
   "metadata": {},
   "source": [
    "The values for model's error decreased compared to the fitted model, which are more close to 0."
   ]
  },
  {
   "cell_type": "markdown",
   "id": "1305b809",
   "metadata": {},
   "source": [
    "#### 2.d.f"
   ]
  },
  {
   "cell_type": "code",
   "execution_count": 52,
   "id": "449dc037",
   "metadata": {},
   "outputs": [
    {
     "name": "stderr",
     "output_type": "stream",
     "text": [
      "C:\\Users\\tabby\\anaconda3\\lib\\site-packages\\sklearn\\base.py:450: UserWarning: X does not have valid feature names, but LinearRegression was fitted with feature names\n",
      "  warnings.warn(\n"
     ]
    },
    {
     "data": {
      "text/plain": [
       "array([0.03522858])"
      ]
     },
     "execution_count": 52,
     "metadata": {},
     "output_type": "execute_result"
    }
   ],
   "source": [
    "mlr.predict([[1453, 68, 1]])"
   ]
  },
  {
   "cell_type": "markdown",
   "id": "58090896",
   "metadata": {},
   "source": [
    "The age of the new specimen is 0.0357408 million year."
   ]
  },
  {
   "cell_type": "markdown",
   "id": "d5dd3f59",
   "metadata": {},
   "source": [
    "#### Question 3"
   ]
  },
  {
   "cell_type": "markdown",
   "id": "035e7f9c",
   "metadata": {},
   "source": [
    "#### 3.a"
   ]
  },
  {
   "cell_type": "code",
   "execution_count": 53,
   "id": "c6078c42",
   "metadata": {},
   "outputs": [
    {
     "data": {
      "text/html": [
       "<div>\n",
       "<style scoped>\n",
       "    .dataframe tbody tr th:only-of-type {\n",
       "        vertical-align: middle;\n",
       "    }\n",
       "\n",
       "    .dataframe tbody tr th {\n",
       "        vertical-align: top;\n",
       "    }\n",
       "\n",
       "    .dataframe thead th {\n",
       "        text-align: right;\n",
       "    }\n",
       "</style>\n",
       "<table border=\"1\" class=\"dataframe\">\n",
       "  <thead>\n",
       "    <tr style=\"text-align: right;\">\n",
       "      <th></th>\n",
       "      <th>Taxonomy</th>\n",
       "      <th>Brain size</th>\n",
       "      <th>Body size</th>\n",
       "      <th>Age (Myr)</th>\n",
       "    </tr>\n",
       "  </thead>\n",
       "  <tbody>\n",
       "    <tr>\n",
       "      <th>0</th>\n",
       "      <td>Pleistocene Homo sapiens</td>\n",
       "      <td>1520.0</td>\n",
       "      <td>67.6</td>\n",
       "      <td>0.011</td>\n",
       "    </tr>\n",
       "    <tr>\n",
       "      <th>1</th>\n",
       "      <td>Pleistocene Homo sapiens</td>\n",
       "      <td>1661.0</td>\n",
       "      <td>66.5</td>\n",
       "      <td>0.011</td>\n",
       "    </tr>\n",
       "    <tr>\n",
       "      <th>2</th>\n",
       "      <td>Pleistocene Homo sapiens</td>\n",
       "      <td>1424.0</td>\n",
       "      <td>73.3</td>\n",
       "      <td>0.012</td>\n",
       "    </tr>\n",
       "    <tr>\n",
       "      <th>3</th>\n",
       "      <td>Pleistocene Homo sapiens</td>\n",
       "      <td>1492.0</td>\n",
       "      <td>83.8</td>\n",
       "      <td>0.014</td>\n",
       "    </tr>\n",
       "    <tr>\n",
       "      <th>4</th>\n",
       "      <td>Pleistocene Homo sapiens</td>\n",
       "      <td>1330.0</td>\n",
       "      <td>75.1</td>\n",
       "      <td>0.014</td>\n",
       "    </tr>\n",
       "    <tr>\n",
       "      <th>5</th>\n",
       "      <td>Pleistocene Homo sapiens</td>\n",
       "      <td>1597.0</td>\n",
       "      <td>58.8</td>\n",
       "      <td>0.014</td>\n",
       "    </tr>\n",
       "    <tr>\n",
       "      <th>6</th>\n",
       "      <td>Pleistocene Homo sapiens</td>\n",
       "      <td>1484.0</td>\n",
       "      <td>66.9</td>\n",
       "      <td>0.015</td>\n",
       "    </tr>\n",
       "    <tr>\n",
       "      <th>7</th>\n",
       "      <td>Pleistocene Homo sapiens</td>\n",
       "      <td>1434.0</td>\n",
       "      <td>59.4</td>\n",
       "      <td>0.018</td>\n",
       "    </tr>\n",
       "    <tr>\n",
       "      <th>8</th>\n",
       "      <td>Pleistocene Homo sapiens</td>\n",
       "      <td>1700.0</td>\n",
       "      <td>67.4</td>\n",
       "      <td>0.018</td>\n",
       "    </tr>\n",
       "    <tr>\n",
       "      <th>9</th>\n",
       "      <td>Pleistocene Homo sapiens</td>\n",
       "      <td>1354.0</td>\n",
       "      <td>59.2</td>\n",
       "      <td>0.019</td>\n",
       "    </tr>\n",
       "  </tbody>\n",
       "</table>\n",
       "</div>"
      ],
      "text/plain": [
       "                   Taxonomy  Brain size  Body size  Age (Myr)\n",
       "0  Pleistocene Homo sapiens      1520.0       67.6      0.011\n",
       "1  Pleistocene Homo sapiens      1661.0       66.5      0.011\n",
       "2  Pleistocene Homo sapiens      1424.0       73.3      0.012\n",
       "3  Pleistocene Homo sapiens      1492.0       83.8      0.014\n",
       "4  Pleistocene Homo sapiens      1330.0       75.1      0.014\n",
       "5  Pleistocene Homo sapiens      1597.0       58.8      0.014\n",
       "6  Pleistocene Homo sapiens      1484.0       66.9      0.015\n",
       "7  Pleistocene Homo sapiens      1434.0       59.4      0.018\n",
       "8  Pleistocene Homo sapiens      1700.0       67.4      0.018\n",
       "9  Pleistocene Homo sapiens      1354.0       59.2      0.019"
      ]
     },
     "execution_count": 53,
     "metadata": {},
     "output_type": "execute_result"
    }
   ],
   "source": [
    "new=pt[[\"Taxonomy\", \"Brain size\", \"Body size\", \"Age (Myr)\"]]\n",
    "new.head(10)"
   ]
  },
  {
   "cell_type": "markdown",
   "id": "42d21521",
   "metadata": {},
   "source": [
    "#### 3.b"
   ]
  },
  {
   "cell_type": "code",
   "execution_count": 54,
   "id": "a5090b1d",
   "metadata": {},
   "outputs": [],
   "source": [
    "X=pt[[\"Age (Myr)\", \"Brain size\", \"Body size\"]]\n",
    "Y=pt[\"Taxonomy\"]\n",
    "\n",
    "from sklearn import preprocessing\n",
    "label_encoder = preprocessing.LabelEncoder()\n",
    "Y = label_encoder.fit_transform(Y)\n",
    "\n",
    "X_train, X_test, Y_train, Y_test= train_test_split(X, Y, test_size= 0.1, random_state=100)"
   ]
  },
  {
   "cell_type": "code",
   "execution_count": 55,
   "id": "ea48ef97",
   "metadata": {},
   "outputs": [
    {
     "data": {
      "text/html": [
       "<div>\n",
       "<style scoped>\n",
       "    .dataframe tbody tr th:only-of-type {\n",
       "        vertical-align: middle;\n",
       "    }\n",
       "\n",
       "    .dataframe tbody tr th {\n",
       "        vertical-align: top;\n",
       "    }\n",
       "\n",
       "    .dataframe thead th {\n",
       "        text-align: right;\n",
       "    }\n",
       "</style>\n",
       "<table border=\"1\" class=\"dataframe\">\n",
       "  <thead>\n",
       "    <tr style=\"text-align: right;\">\n",
       "      <th></th>\n",
       "      <th>Age (Myr)</th>\n",
       "      <th>Brain size</th>\n",
       "      <th>Body size</th>\n",
       "    </tr>\n",
       "  </thead>\n",
       "  <tbody>\n",
       "    <tr>\n",
       "      <th>11</th>\n",
       "      <td>0.021</td>\n",
       "      <td>1170.0</td>\n",
       "      <td>48.6</td>\n",
       "    </tr>\n",
       "    <tr>\n",
       "      <th>18</th>\n",
       "      <td>0.299</td>\n",
       "      <td>1249.0</td>\n",
       "      <td>73.7</td>\n",
       "    </tr>\n",
       "    <tr>\n",
       "      <th>0</th>\n",
       "      <td>0.011</td>\n",
       "      <td>1520.0</td>\n",
       "      <td>67.6</td>\n",
       "    </tr>\n",
       "    <tr>\n",
       "      <th>20</th>\n",
       "      <td>0.031</td>\n",
       "      <td>1663.0</td>\n",
       "      <td>79.4</td>\n",
       "    </tr>\n",
       "    <tr>\n",
       "      <th>55</th>\n",
       "      <td>0.770</td>\n",
       "      <td>937.5</td>\n",
       "      <td>54.3</td>\n",
       "    </tr>\n",
       "  </tbody>\n",
       "</table>\n",
       "</div>"
      ],
      "text/plain": [
       "    Age (Myr)  Brain size  Body size\n",
       "11      0.021      1170.0       48.6\n",
       "18      0.299      1249.0       73.7\n",
       "0       0.011      1520.0       67.6\n",
       "20      0.031      1663.0       79.4\n",
       "55      0.770       937.5       54.3"
      ]
     },
     "execution_count": 55,
     "metadata": {},
     "output_type": "execute_result"
    }
   ],
   "source": [
    "X_train.head()"
   ]
  },
  {
   "cell_type": "code",
   "execution_count": 56,
   "id": "4d4d44e4",
   "metadata": {},
   "outputs": [
    {
     "data": {
      "text/html": [
       "<div>\n",
       "<style scoped>\n",
       "    .dataframe tbody tr th:only-of-type {\n",
       "        vertical-align: middle;\n",
       "    }\n",
       "\n",
       "    .dataframe tbody tr th {\n",
       "        vertical-align: top;\n",
       "    }\n",
       "\n",
       "    .dataframe thead th {\n",
       "        text-align: right;\n",
       "    }\n",
       "</style>\n",
       "<table border=\"1\" class=\"dataframe\">\n",
       "  <thead>\n",
       "    <tr style=\"text-align: right;\">\n",
       "      <th></th>\n",
       "      <th>Age (Myr)</th>\n",
       "      <th>Brain size</th>\n",
       "      <th>Body size</th>\n",
       "    </tr>\n",
       "  </thead>\n",
       "  <tbody>\n",
       "    <tr>\n",
       "      <th>33</th>\n",
       "      <td>0.048</td>\n",
       "      <td>1550.0</td>\n",
       "      <td>71.2</td>\n",
       "    </tr>\n",
       "    <tr>\n",
       "      <th>6</th>\n",
       "      <td>0.015</td>\n",
       "      <td>1484.0</td>\n",
       "      <td>66.9</td>\n",
       "    </tr>\n",
       "    <tr>\n",
       "      <th>52</th>\n",
       "      <td>0.540</td>\n",
       "      <td>940.0</td>\n",
       "      <td>50.0</td>\n",
       "    </tr>\n",
       "    <tr>\n",
       "      <th>49</th>\n",
       "      <td>0.430</td>\n",
       "      <td>1143.5</td>\n",
       "      <td>58.3</td>\n",
       "    </tr>\n",
       "    <tr>\n",
       "      <th>12</th>\n",
       "      <td>0.021</td>\n",
       "      <td>1090.0</td>\n",
       "      <td>47.4</td>\n",
       "    </tr>\n",
       "  </tbody>\n",
       "</table>\n",
       "</div>"
      ],
      "text/plain": [
       "    Age (Myr)  Brain size  Body size\n",
       "33      0.048      1550.0       71.2\n",
       "6       0.015      1484.0       66.9\n",
       "52      0.540       940.0       50.0\n",
       "49      0.430      1143.5       58.3\n",
       "12      0.021      1090.0       47.4"
      ]
     },
     "execution_count": 56,
     "metadata": {},
     "output_type": "execute_result"
    }
   ],
   "source": [
    "X_test.head()"
   ]
  },
  {
   "cell_type": "markdown",
   "id": "99542ca5",
   "metadata": {},
   "source": [
    "#### 3.c"
   ]
  },
  {
   "cell_type": "code",
   "execution_count": 57,
   "id": "71410d95",
   "metadata": {},
   "outputs": [],
   "source": [
    "from sklearn.preprocessing import StandardScaler\n",
    "\n",
    "sc = StandardScaler()\n",
    "X_train = sc.fit_transform(X_train)\n",
    "X_test = sc.transform(X_test)"
   ]
  },
  {
   "cell_type": "code",
   "execution_count": 58,
   "id": "49516feb",
   "metadata": {},
   "outputs": [
    {
     "data": {
      "text/plain": [
       "KNeighborsClassifier(n_neighbors=3)"
      ]
     },
     "execution_count": 58,
     "metadata": {},
     "output_type": "execute_result"
    }
   ],
   "source": [
    "from sklearn.neighbors import KNeighborsClassifier\n",
    "\n",
    "classifier = KNeighborsClassifier(n_neighbors = 3)\n",
    "classifier.fit(X_train, Y_train)"
   ]
  },
  {
   "cell_type": "code",
   "execution_count": 59,
   "id": "90a84e74",
   "metadata": {},
   "outputs": [
    {
     "name": "stdout",
     "output_type": "stream",
     "text": [
      "[1 2 0 0 2 2]\n",
      "[2 2 0 0 2 2]\n"
     ]
    }
   ],
   "source": [
    "Y_pred = classifier.predict(X_test)\n",
    "print(Y_test) \n",
    "print(Y_pred)"
   ]
  },
  {
   "cell_type": "markdown",
   "id": "f45ac5e7",
   "metadata": {},
   "source": [
    "#### 3.d"
   ]
  },
  {
   "cell_type": "code",
   "execution_count": 60,
   "id": "b5a9dd38",
   "metadata": {},
   "outputs": [
    {
     "name": "stdout",
     "output_type": "stream",
     "text": [
      "[[2 0 0]\n",
      " [0 0 1]\n",
      " [0 0 3]]\n",
      "0.8333333333333334\n"
     ]
    }
   ],
   "source": [
    "cm3=confusion_matrix(Y_test, Y_pred)\n",
    "ac3=accuracy_score(Y_test, Y_pred)\n",
    "\n",
    "print(cm3)\n",
    "print(ac3)"
   ]
  },
  {
   "cell_type": "markdown",
   "id": "26af0f76",
   "metadata": {},
   "source": [
    "The accuracy of this knn model with k=3 is 83.33%, which means that 83% correct decision has been made through this classsification."
   ]
  },
  {
   "cell_type": "markdown",
   "id": "2085fa6b",
   "metadata": {},
   "source": [
    "#### 3.e"
   ]
  },
  {
   "cell_type": "code",
   "execution_count": 62,
   "id": "e335e8cc",
   "metadata": {},
   "outputs": [
    {
     "data": {
      "image/png": "[encoded data removed]",
      "text/plain": [
       "<Figure size 432x288 with 1 Axes>"
      ]
     },
     "metadata": {
      "needs_background": "light"
     },
     "output_type": "display_data"
    }
   ],
   "source": [
    "neighbors = np.arange(1, 9)\n",
    "train_accuracy = np.empty(len(neighbors))\n",
    "test_accuracy = np.empty(len(neighbors))\n",
    "  \n",
    "for i, k in enumerate(neighbors):\n",
    "    knn = KNeighborsClassifier(n_neighbors=k)\n",
    "    knn.fit(X_train, Y_train)\n",
    "      \n",
    "    # Compute training and test data accuracy\n",
    "    train_accuracy[i] = knn.score(X_train, Y_train)\n",
    "    test_accuracy[i] = knn.score(X_test, Y_test)\n",
    "  \n",
    "# Generate plot\n",
    "plt.plot(neighbors, test_accuracy, label = 'Testing Accuracy')\n",
    "plt.plot(neighbors, train_accuracy, label = 'Training Accuracy')\n",
    "  \n",
    "plt.legend()\n",
    "plt.xlabel('k neighbors')\n",
    "plt.ylabel('Accuracy')\n",
    "plt.show()"
   ]
  },
  {
   "cell_type": "markdown",
   "id": "61bd8a59",
   "metadata": {},
   "source": [
    "#### 3.f"
   ]
  },
  {
   "cell_type": "code",
   "execution_count": 139,
   "id": "35a07af5",
   "metadata": {},
   "outputs": [
    {
     "data": {
      "text/plain": [
       "array([0])"
      ]
     },
     "execution_count": 139,
     "metadata": {},
     "output_type": "execute_result"
    }
   ],
   "source": [
    "new_taxono = [[1453, 68, 0.33]]\n",
    "new_taxono = classifier.predict(new_taxono)\n",
    "new_taxono"
   ]
  },
  {
   "cell_type": "markdown",
   "id": "10bb8105",
   "metadata": {},
   "source": [
    "The new specimen is classified to the first taxonomy as Pleistocene Homo sapiens."
   ]
  }
 ],
 "metadata": {
  "kernelspec": {
   "display_name": "Python 3 (ipykernel)",
   "language": "python",
   "name": "python3"
  },
  "language_info": {
   "codemirror_mode": {
    "name": "ipython",
    "version": 3
   },
   "file_extension": ".py",
   "mimetype": "text/x-python",
   "name": "python",
   "nbconvert_exporter": "python",
   "pygments_lexer": "ipython3",
   "version": "3.9.12"
  }
 },
 "nbformat": 4,
 "nbformat_minor": 5
}
